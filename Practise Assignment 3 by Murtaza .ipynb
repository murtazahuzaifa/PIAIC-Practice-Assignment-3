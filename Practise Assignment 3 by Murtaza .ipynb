{
 "cells": [
  {
   "cell_type": "markdown",
   "metadata": {},
   "source": [
    "# Q1:"
   ]
  },
  {
   "cell_type": "markdown",
   "metadata": {},
   "source": [
    "Think of at least three kinds of your favorite pizza. Store these pizza names in a list, and then use a for loop to print the name of each pizza."
   ]
  },
  {
   "cell_type": "code",
   "execution_count": 4,
   "metadata": {},
   "outputs": [],
   "source": [
    "pizzas = ['Fagita', 'Tikka', 'Barbeque']"
   ]
  },
  {
   "cell_type": "code",
   "execution_count": 5,
   "metadata": {},
   "outputs": [
    {
     "name": "stdout",
     "output_type": "stream",
     "text": [
      "Fagita\n",
      "Tikka\n",
      "Barbeque\n"
     ]
    }
   ],
   "source": [
    "for pizza in pizzas:\n",
    "    print(pizza)"
   ]
  },
  {
   "cell_type": "markdown",
   "metadata": {},
   "source": [
    "# Q2"
   ]
  },
  {
   "cell_type": "markdown",
   "metadata": {},
   "source": [
    "Start with your last question , Modify your for loop to print a sentence using the name of the pizza\n",
    "instead of printing just the name of the pizza. For each pizza you should\n",
    "have one line of output containing a simple statement like I like pepperoni\n",
    "pizza."
   ]
  },
  {
   "cell_type": "code",
   "execution_count": 6,
   "metadata": {},
   "outputs": [
    {
     "name": "stdout",
     "output_type": "stream",
     "text": [
      "I like Fagita pizza\n",
      "I like Tikka pizza\n",
      "I like Barbeque pizza\n"
     ]
    }
   ],
   "source": [
    "for pizza in pizzas:\n",
    "    print(f\"I like {pizza} pizza\")"
   ]
  },
  {
   "cell_type": "markdown",
   "metadata": {},
   "source": [
    "# Q3:"
   ]
  },
  {
   "cell_type": "markdown",
   "metadata": {},
   "source": [
    "Use a for loop to print the numbers from 1 to 20,\n",
    "inclusive."
   ]
  },
  {
   "cell_type": "code",
   "execution_count": 8,
   "metadata": {},
   "outputs": [
    {
     "name": "stdout",
     "output_type": "stream",
     "text": [
      "1\n",
      "2\n",
      "3\n",
      "4\n",
      "5\n",
      "6\n",
      "7\n",
      "8\n",
      "9\n",
      "10\n",
      "11\n",
      "12\n",
      "13\n",
      "14\n",
      "15\n",
      "16\n",
      "17\n",
      "18\n",
      "19\n",
      "20\n"
     ]
    }
   ],
   "source": [
    "for x in range(1,21):\n",
    "    print(x)"
   ]
  },
  {
   "cell_type": "markdown",
   "metadata": {},
   "source": [
    "# Q4:"
   ]
  },
  {
   "cell_type": "markdown",
   "metadata": {},
   "source": [
    "Use the third argument of the range() function to make a list\n",
    "of the odd numbers from 1 to 20. Use a for loop to print each number."
   ]
  },
  {
   "cell_type": "code",
   "execution_count": 10,
   "metadata": {},
   "outputs": [
    {
     "name": "stdout",
     "output_type": "stream",
     "text": [
      "1\n",
      "3\n",
      "5\n",
      "7\n",
      "9\n",
      "11\n",
      "13\n",
      "15\n",
      "17\n",
      "19\n"
     ]
    }
   ],
   "source": [
    "for x in range(1,21,2):\n",
    "    print(x)"
   ]
  },
  {
   "cell_type": "markdown",
   "metadata": {},
   "source": [
    "# Q5:"
   ]
  },
  {
   "cell_type": "markdown",
   "metadata": {},
   "source": [
    "Make a list of the multiples of 3 from 3 to 30. Use a for loop to\n",
    "print the numbers in your list."
   ]
  },
  {
   "cell_type": "code",
   "execution_count": 13,
   "metadata": {},
   "outputs": [],
   "source": [
    "multiple_of_3 = [x*3 for x in range(3,31)]"
   ]
  },
  {
   "cell_type": "code",
   "execution_count": 15,
   "metadata": {},
   "outputs": [
    {
     "name": "stdout",
     "output_type": "stream",
     "text": [
      "9\n",
      "12\n",
      "15\n",
      "18\n",
      "21\n",
      "24\n",
      "27\n",
      "30\n",
      "33\n",
      "36\n",
      "39\n",
      "42\n",
      "45\n",
      "48\n",
      "51\n",
      "54\n",
      "57\n",
      "60\n",
      "63\n",
      "66\n",
      "69\n",
      "72\n",
      "75\n",
      "78\n",
      "81\n",
      "84\n",
      "87\n",
      "90\n"
     ]
    }
   ],
   "source": [
    "index = 0\n",
    "for y in multiple_of_3:\n",
    "    print(multiple_of_3[index])\n",
    "    index += 1"
   ]
  },
  {
   "cell_type": "markdown",
   "metadata": {},
   "source": [
    "# Q6:"
   ]
  },
  {
   "cell_type": "markdown",
   "metadata": {},
   "source": [
    "A number raised to the third power is called a cube. For example,\n",
    "the cube of 2 is written as 2**3 in Python. Make a list of the first 10 cubes (that\n",
    "is, the cube of each integer from 1 through 10), and use a for loop to print out\n",
    "the value of each cube"
   ]
  },
  {
   "cell_type": "code",
   "execution_count": 16,
   "metadata": {},
   "outputs": [],
   "source": [
    "first_10_cubes = [x**3 for x in range(1,11)]"
   ]
  },
  {
   "cell_type": "code",
   "execution_count": 17,
   "metadata": {},
   "outputs": [
    {
     "name": "stdout",
     "output_type": "stream",
     "text": [
      "1\n",
      "8\n",
      "27\n",
      "64\n",
      "125\n",
      "216\n",
      "343\n",
      "512\n",
      "729\n",
      "1000\n"
     ]
    }
   ],
   "source": [
    "index = 0\n",
    "for y in first_10_cubes:\n",
    "    print(first_10_cubes[index])\n",
    "    index += 1"
   ]
  },
  {
   "cell_type": "markdown",
   "metadata": {},
   "source": [
    "# Q7:"
   ]
  },
  {
   "cell_type": "markdown",
   "metadata": {},
   "source": [
    "###### Make a python program that conatains your nine favourite dishes in a list called foods.\n",
    "\n",
    "###### Print the message, The first three items in the list are:. \n",
    "###### Then use a slice to print the first three items from that program’s list.\n",
    "\n",
    "###### Print the message, Three items from the middle of the list are:\n",
    "###### Use a slice to print three items from the middle of the list.\n",
    "\n",
    "###### Print the message, The last three items in the list are:\n",
    "###### Use a slice to print the last three items in the list."
   ]
  },
  {
   "cell_type": "code",
   "execution_count": 108,
   "metadata": {},
   "outputs": [],
   "source": [
    "foods = ['chicken biryani', 'nihari','chicken karhai','tikkah', 'mutton Karhai', 'mutton biryani', 'korma', 'cheese kabab', 'Aalu gosht']"
   ]
  },
  {
   "cell_type": "code",
   "execution_count": 109,
   "metadata": {},
   "outputs": [
    {
     "name": "stdout",
     "output_type": "stream",
     "text": [
      "The first three items in the list are: ['chicken biryani', 'nihari', 'chicken karhai']\n"
     ]
    }
   ],
   "source": [
    "print(f'The first three items in the list are: {foods[:3]}')"
   ]
  },
  {
   "cell_type": "code",
   "execution_count": 110,
   "metadata": {},
   "outputs": [
    {
     "name": "stdout",
     "output_type": "stream",
     "text": [
      "Three items from the middle of the list are: ['tikkah', 'mutton Karhai', 'mutton biryani']\n"
     ]
    }
   ],
   "source": [
    "print(f'Three items from the middle of the list are: {foods[3:6]}')"
   ]
  },
  {
   "cell_type": "code",
   "execution_count": 111,
   "metadata": {},
   "outputs": [
    {
     "name": "stdout",
     "output_type": "stream",
     "text": [
      "The last three items in the list are: ['korma', 'cheese kabab', 'Aalu gosht']\n"
     ]
    }
   ],
   "source": [
    "print(f'The last three items in the list are: {foods[6:]}')"
   ]
  },
  {
   "cell_type": "markdown",
   "metadata": {},
   "source": [
    "# Q8:"
   ]
  },
  {
   "cell_type": "markdown",
   "metadata": {},
   "source": [
    "### Start with your program from your last Question8.\n",
    "###### Make a copy of the list of foods, and call it friend_foods.\n",
    "###### Then, do the following:\n",
    "######    Add a new dish to the original list.\n",
    "######    Add a different dish to the list friend_foodss.\n",
    "######    Prove that you have two separate lists. \n",
    "###### Print the message, My favorite foods are: and then use a for loop to print the first list. \n",
    "###### Print the message,\n",
    "###### My friend’s favorite foods are:, and then use a for loop to print the second list.\n",
    "    \n",
    "##### NOTE: Make sure each new dish is stored in the appropriate list."
   ]
  },
  {
   "cell_type": "code",
   "execution_count": 112,
   "metadata": {},
   "outputs": [],
   "source": [
    "friend_foods = []\n",
    "for x in foods:\n",
    "    friend_foods.append(x)"
   ]
  },
  {
   "cell_type": "code",
   "execution_count": 113,
   "metadata": {},
   "outputs": [],
   "source": [
    "foods.append('Bhinddi')"
   ]
  },
  {
   "cell_type": "code",
   "execution_count": 114,
   "metadata": {},
   "outputs": [],
   "source": [
    "friend_foods.append('Aalu Keema')"
   ]
  },
  {
   "cell_type": "code",
   "execution_count": 119,
   "metadata": {},
   "outputs": [
    {
     "name": "stdout",
     "output_type": "stream",
     "text": [
      "My favorite foods are: chicken biryani, nihari, chicken karhai, tikkah, mutton Karhai, mutton biryani, korma, cheese kabab, Aalu gosht, \b\b and Bhinddi\n"
     ]
    }
   ],
   "source": [
    "print('My favorite foods are: ',end = '')\n",
    "\n",
    "for food in foods:\n",
    "    if food == foods[9]:\n",
    "        print(end = '\\b'*2)\n",
    "        print(f' and {foods[9]}')\n",
    "        break\n",
    "    print(food, end = ', ' )\n"
   ]
  },
  {
   "cell_type": "code",
   "execution_count": 120,
   "metadata": {},
   "outputs": [
    {
     "name": "stdout",
     "output_type": "stream",
     "text": [
      "My friend’s favorite foods are: chicken biryani, nihari, chicken karhai, tikkah, mutton Karhai, mutton biryani, korma, cheese kabab, Aalu gosht, \b\b and Aalu Keema\n"
     ]
    }
   ],
   "source": [
    "print('My friend’s favorite foods are: ',end = '')\n",
    "\n",
    "for food in friend_foods:\n",
    "    if food == friend_foods[9]:\n",
    "        print(end = '\\b'*2)\n",
    "        print(f' and {friend_foods[9]}')\n",
    "        break\n",
    "    print(food, end = ', ' )"
   ]
  },
  {
   "cell_type": "markdown",
   "metadata": {},
   "source": [
    "# Q9:"
   ]
  },
  {
   "cell_type": "markdown",
   "metadata": {},
   "source": [
    "Take a user input from console line.Store it in a variable called Alien_color.\n",
    "\n",
    "If the alien’s color is red, print a statement that the player just earned 5 points for shooting the alien.\n",
    "\n",
    "If the alien’s color isn’t green, print a statement that the player just earned 10 points.\n",
    "\n",
    "If the alien's color isn't red or green , print a statment :, Alien is no more....."
   ]
  },
  {
   "cell_type": "code",
   "execution_count": 3,
   "metadata": {},
   "outputs": [
    {
     "name": "stdout",
     "output_type": "stream",
     "text": [
      "Type a color: red\n",
      "The player jsut earned 5 points for shooting the alein.\n",
      "The player just earned 10 points.\n"
     ]
    }
   ],
   "source": [
    "alien_color = input('Type a color: ')\n",
    "if alien_color:\n",
    "    if alien_color == 'red':\n",
    "        print('The player jsut earned 5 points for shooting the alein.')\n",
    "    if alien_color != 'green':\n",
    "        print('The player just earned 10 points.')\n",
    "    if alien_color != 'green' and alien_color != 'red':\n",
    "        print('Alien is no more')"
   ]
  },
  {
   "cell_type": "code",
   "execution_count": 4,
   "metadata": {},
   "outputs": [
    {
     "name": "stdout",
     "output_type": "stream",
     "text": [
      "Type a color: green\n"
     ]
    }
   ],
   "source": [
    "alien_color = input('Type a color: ')\n",
    "if alien_color:\n",
    "    if alien_color == 'red':\n",
    "        print('The player jsut earned 5 points for shooting the alein.')\n",
    "    if alien_color != 'green':\n",
    "        print('The player just earned 10 points.')\n",
    "    if alien_color != 'green' and alien_color != 'red':\n",
    "        print('Alien is no more')"
   ]
  },
  {
   "cell_type": "code",
   "execution_count": 13,
   "metadata": {},
   "outputs": [
    {
     "name": "stdout",
     "output_type": "stream",
     "text": [
      "Type a color: pink\n",
      "The player just earned 10 points.\n",
      "Alien is no more\n"
     ]
    }
   ],
   "source": [
    "alien_color = input('Type a color: ')\n",
    "if alien_color:\n",
    "    if alien_color == 'red':\n",
    "        print('The player jsut earned 5 points for shooting the alein.')\n",
    "    elif alien_color != 'green':\n",
    "        print('The player just earned 10 points.')\n",
    "    if alien_color != 'green' and alien_color != 'red':\n",
    "        print('Alien is no more')"
   ]
  },
  {
   "cell_type": "markdown",
   "metadata": {},
   "source": [
    "# Q10:"
   ]
  },
  {
   "cell_type": "markdown",
   "metadata": {},
   "source": [
    "Write an if-elif-else chain that determines a person’s\n",
    "stage of life. Set a value for the variable age, and then:\n",
    "    \n",
    "•\t If the person is less than 2 years old, print a message that the person is a baby.\n",
    "\n",
    "•\t If the person is at least 2 years old but less than 4, print a message that the person is a toddler.\n",
    "\n",
    "•\t If the person is at least 4 years old but less than 13, print a message that the person is a kid.\n",
    "\n",
    "•\t If the person is at least 13 years old but less than 20, print a message that the person is a teenager.\n",
    "\n",
    "•\t If the person is at least 20 years old but less than 65, print a message that the person is an adult.\n",
    "\n",
    "•\t If the person is age 65 or older, print a message that the person is an elder."
   ]
  },
  {
   "cell_type": "code",
   "execution_count": 17,
   "metadata": {},
   "outputs": [
    {
     "name": "stdout",
     "output_type": "stream",
     "text": [
      "Your age: 1\n",
      "The person is a baby.\n"
     ]
    }
   ],
   "source": [
    "age = int(input('Your age: '))\n",
    "if age:\n",
    "    if age < 2:\n",
    "        print('The person is a baby.')\n",
    "    elif age >= 2 and age < 4:\n",
    "        print('The person is a toddler')\n",
    "    elif age >= 4 and age < 13:\n",
    "        print('The person is a kid.')\n",
    "    elif age >= 13 and age < 20:\n",
    "        print('The person is a teenager.')\n",
    "    elif age >= 20 and age < 65:\n",
    "        print('The person is an adult.')\n",
    "    else :\n",
    "        print('The person is an elder.')"
   ]
  },
  {
   "cell_type": "code",
   "execution_count": 18,
   "metadata": {},
   "outputs": [
    {
     "name": "stdout",
     "output_type": "stream",
     "text": [
      "Your age: 3\n",
      "The person is a toddler\n"
     ]
    }
   ],
   "source": [
    "age = int(input('Your age: '))\n",
    "if age:\n",
    "    if age < 2:\n",
    "        print('The person is a baby.')\n",
    "    elif age >= 2 and age < 4:\n",
    "        print('The person is a toddler')\n",
    "    elif age >= 4 and age < 13:\n",
    "        print('The person is a kid.')\n",
    "    elif age >= 13 and age < 20:\n",
    "        print('The person is a teenager.')\n",
    "    elif age >= 20 and age < 65:\n",
    "        print('The person is an adult.')\n",
    "    else :\n",
    "        print('The person is an elder.')"
   ]
  },
  {
   "cell_type": "code",
   "execution_count": 19,
   "metadata": {},
   "outputs": [
    {
     "name": "stdout",
     "output_type": "stream",
     "text": [
      "Your age: 6\n",
      "The person is a kid.\n"
     ]
    }
   ],
   "source": [
    "age = int(input('Your age: '))\n",
    "if age:\n",
    "    if age < 2:\n",
    "        print('The person is a baby.')\n",
    "    elif age >= 2 and age < 4:\n",
    "        print('The person is a toddler')\n",
    "    elif age >= 4 and age < 13:\n",
    "        print('The person is a kid.')\n",
    "    elif age >= 13 and age < 20:\n",
    "        print('The person is a teenager.')\n",
    "    elif age >= 20 and age < 65:\n",
    "        print('The person is an adult.')\n",
    "    else :\n",
    "        print('The person is an elder.')"
   ]
  },
  {
   "cell_type": "code",
   "execution_count": 20,
   "metadata": {},
   "outputs": [
    {
     "name": "stdout",
     "output_type": "stream",
     "text": [
      "Your age: 16\n",
      "The person is a teenager.\n"
     ]
    }
   ],
   "source": [
    "age = int(input('Your age: '))\n",
    "if age:\n",
    "    if age < 2:\n",
    "        print('The person is a baby.')\n",
    "    elif age >= 2 and age < 4:\n",
    "        print('The person is a toddler')\n",
    "    elif age >= 4 and age < 13:\n",
    "        print('The person is a kid.')\n",
    "    elif age >= 13 and age < 20:\n",
    "        print('The person is a teenager.')\n",
    "    elif age >= 20 and age < 65:\n",
    "        print('The person is an adult.')\n",
    "    else :\n",
    "        print('The person is an elder.')"
   ]
  },
  {
   "cell_type": "code",
   "execution_count": 21,
   "metadata": {},
   "outputs": [
    {
     "name": "stdout",
     "output_type": "stream",
     "text": [
      "Your age: 44\n",
      "The person is an adult.\n"
     ]
    }
   ],
   "source": [
    "age = int(input('Your age: '))\n",
    "if age:\n",
    "    if age < 2:\n",
    "        print('The person is a baby.')\n",
    "    elif age >= 2 and age < 4:\n",
    "        print('The person is a toddler')\n",
    "    elif age >= 4 and age < 13:\n",
    "        print('The person is a kid.')\n",
    "    elif age >= 13 and age < 20:\n",
    "        print('The person is a teenager.')\n",
    "    elif age >= 20 and age < 65:\n",
    "        print('The person is an adult.')\n",
    "    else :\n",
    "        print('The person is an elder.')"
   ]
  },
  {
   "cell_type": "code",
   "execution_count": 22,
   "metadata": {},
   "outputs": [
    {
     "name": "stdout",
     "output_type": "stream",
     "text": [
      "Your age: 66\n",
      "The person is an elder.\n"
     ]
    }
   ],
   "source": [
    "age = int(input('Your age: '))\n",
    "if age:\n",
    "    if age < 2:\n",
    "        print('The person is a baby.')\n",
    "    elif age >= 2 and age < 4:\n",
    "        print('The person is a toddler')\n",
    "    elif age >= 4 and age < 13:\n",
    "        print('The person is a kid.')\n",
    "    elif age >= 13 and age < 20:\n",
    "        print('The person is a teenager.')\n",
    "    elif age >= 20 and age < 65:\n",
    "        print('The person is an adult.')\n",
    "    else :\n",
    "        print('The person is an elder.')"
   ]
  },
  {
   "cell_type": "markdown",
   "metadata": {},
   "source": [
    "# Q11:"
   ]
  },
  {
   "cell_type": "markdown",
   "metadata": {},
   "source": [
    "Do the following to create a program that simulates how websites ensure that everyone has a unique username.\n",
    "\n",
    "•\t Make a list of five or more usernames called current_users.\n",
    "\n",
    "•\t Make another list of five usernames called new_users. \n",
    "Make sure one or two of the new usernames are also in the current_users list.\n",
    "\n",
    "•\t Loop through the new_users list to see if each new username has already been used. \n",
    "If it has, print a message that the person will need to enter a new username. \n",
    "If a username has not been used, print a message saying that the username is available.\n",
    "\n",
    "•\t Make sure your comparison is case insensitive. If 'John' has been used, 'JOHN' should not be accepted."
   ]
  },
  {
   "cell_type": "code",
   "execution_count": 19,
   "metadata": {},
   "outputs": [],
   "source": [
    "current_users = ['jhon','don','ron', 'faron','positron']"
   ]
  },
  {
   "cell_type": "code",
   "execution_count": 20,
   "metadata": {},
   "outputs": [],
   "source": [
    "new_users = ['ben','wayne','bruce','Don','Faron']"
   ]
  },
  {
   "cell_type": "code",
   "execution_count": 29,
   "metadata": {},
   "outputs": [
    {
     "name": "stdout",
     "output_type": "stream",
     "text": [
      "The user name ben is available\n",
      "The user name wayne is available\n",
      "The user name bruce is available\n",
      "The user name Don is already taken, you need to enter a new username\n",
      "The user name Faron is already taken, you need to enter a new username\n"
     ]
    }
   ],
   "source": [
    "c_users=[]\n",
    "for y in current_users:\n",
    "    c_users.append(y.lower())\n",
    "for x in range(0, len(new_users)):\n",
    "    \n",
    "    if new_users[x].lower() in c_users:\n",
    "        print(f'The user name {new_users[x]} is already taken, you need to enter a new username')\n",
    "    else:\n",
    "        print(f'The user name {new_users[x]} is available')"
   ]
  },
  {
   "cell_type": "markdown",
   "metadata": {},
   "source": [
    "# Q12:"
   ]
  },
  {
   "cell_type": "markdown",
   "metadata": {},
   "source": [
    "Use a dictionary to store information about a person you know.\n",
    "Store their first name, last name, age, and the city in which they live. \n",
    "You should have keys such as first_name, last_name, age, and city. \n",
    "Print each piece of information stored in your dictionary"
   ]
  },
  {
   "cell_type": "code",
   "execution_count": null,
   "metadata": {},
   "outputs": [],
   "source": []
  },
  {
   "cell_type": "code",
   "execution_count": null,
   "metadata": {},
   "outputs": [],
   "source": []
  },
  {
   "cell_type": "code",
   "execution_count": null,
   "metadata": {},
   "outputs": [],
   "source": []
  },
  {
   "cell_type": "code",
   "execution_count": null,
   "metadata": {},
   "outputs": [],
   "source": []
  },
  {
   "cell_type": "markdown",
   "metadata": {},
   "source": [
    "# Q13:"
   ]
  },
  {
   "cell_type": "markdown",
   "metadata": {},
   "source": [
    "Starts with your last question 12 , loop through the dictionary’s keys and values.\n",
    "When you’re sure that your loop works, add five more Python terms to your\n",
    "dictionary . When you run your program again, these new words and meanings\n",
    "should automatically be included in the output."
   ]
  },
  {
   "cell_type": "code",
   "execution_count": null,
   "metadata": {},
   "outputs": [],
   "source": []
  },
  {
   "cell_type": "code",
   "execution_count": null,
   "metadata": {},
   "outputs": [],
   "source": []
  },
  {
   "cell_type": "code",
   "execution_count": null,
   "metadata": {},
   "outputs": [],
   "source": []
  },
  {
   "cell_type": "code",
   "execution_count": null,
   "metadata": {},
   "outputs": [],
   "source": []
  },
  {
   "cell_type": "code",
   "execution_count": null,
   "metadata": {},
   "outputs": [],
   "source": []
  },
  {
   "cell_type": "markdown",
   "metadata": {},
   "source": [
    "# Q14:"
   ]
  },
  {
   "cell_type": "markdown",
   "metadata": {},
   "source": [
    "Make a dictionary containing three major rivers and the country\n",
    "each river runs through. One key-value pair might be 'nile': 'egypt'.\n",
    "    \n",
    "    \n",
    "•\t Use a loop to print a sentence about each river, such as The Nile runs\n",
    "through Egypt.\n",
    "\n",
    "NOTE: use upper case through keys and values."
   ]
  },
  {
   "cell_type": "code",
   "execution_count": null,
   "metadata": {},
   "outputs": [],
   "source": []
  },
  {
   "cell_type": "code",
   "execution_count": null,
   "metadata": {},
   "outputs": [],
   "source": []
  },
  {
   "cell_type": "code",
   "execution_count": null,
   "metadata": {},
   "outputs": [],
   "source": []
  },
  {
   "cell_type": "markdown",
   "metadata": {},
   "source": [
    "# Q15:"
   ]
  },
  {
   "cell_type": "markdown",
   "metadata": {},
   "source": [
    "Make several dictionaries, where the name of each dictionary is the\n",
    "name of a pet. In each dictionary, include the kind of animal and the owner’s\n",
    "name. Store these dictionaries in a list called pets. Next, loop through your list\n",
    "and as you do print everything you know about each pet."
   ]
  },
  {
   "cell_type": "code",
   "execution_count": null,
   "metadata": {},
   "outputs": [],
   "source": []
  }
 ],
 "metadata": {
  "kernelspec": {
   "display_name": "Python 3",
   "language": "python",
   "name": "python3"
  },
  "language_info": {
   "codemirror_mode": {
    "name": "ipython",
    "version": 3
   },
   "file_extension": ".py",
   "mimetype": "text/x-python",
   "name": "python",
   "nbconvert_exporter": "python",
   "pygments_lexer": "ipython3",
   "version": "3.7.3"
  }
 },
 "nbformat": 4,
 "nbformat_minor": 2
}
